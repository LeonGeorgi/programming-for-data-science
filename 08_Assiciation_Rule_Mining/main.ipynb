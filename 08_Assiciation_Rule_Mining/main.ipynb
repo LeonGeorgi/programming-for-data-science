{
 "cells": [
  {
   "cell_type": "markdown",
   "metadata": {},
   "source": [
    "# Association Rule Mining"
   ]
  },
  {
   "cell_type": "code",
   "execution_count": 1,
   "metadata": {},
   "outputs": [],
   "source": [
    "import pandas as pd\n",
    "import itertools\n",
    "import math"
   ]
  },
  {
   "cell_type": "markdown",
   "metadata": {},
   "source": [
    "## Step 0\n",
    "- You will get two tsv files from us. Rows are transactions with purchased items. Load it in your language/environment.\n",
    "- Use the smaller file (items.tsv, minsupp of 70%) for development and the larger file (retail.tsv, minsupp of 10%) for evaluation."
   ]
  },
  {
   "cell_type": "code",
   "execution_count": 28,
   "metadata": {},
   "outputs": [
    {
     "name": "stdout",
     "output_type": "stream",
     "text": [
      "88162\n",
      "76\n"
     ]
    }
   ],
   "source": [
    "import csv\n",
    "with open('retail.tsv', 'r') as f:\n",
    "    reader = csv.reader(f, delimiter=\" \")\n",
    "    #print(list(reader))\n",
    "    dataset = [[int(item) for item in purchase if item] for purchase in reader]\n",
    "    \n",
    "print(len(dataset))\n",
    "print(max(len(transaction) for transaction in dataset))"
   ]
  },
  {
   "cell_type": "code",
   "execution_count": 40,
   "metadata": {},
   "outputs": [],
   "source": [
    "minsupp = 0.1"
   ]
  },
  {
   "cell_type": "markdown",
   "metadata": {},
   "source": [
    "## Step 1\n",
    "- Implement the Apriori algorithm*.\n",
    "- Using your implementation, extract frequent item sets from the given datasets."
   ]
  },
  {
   "cell_type": "code",
   "execution_count": 12,
   "metadata": {},
   "outputs": [],
   "source": [
    "def apriori(dataset, minsupp, debug=True):\n",
    "    total_transactions = len(dataset)\n",
    "    candidates = sorted({(item,) for transaction in dataset for item in transaction})\n",
    "    k = 1\n",
    "    debug_threshold = math.ceil(total_transactions/100)\n",
    "\n",
    "    result = []\n",
    "    while candidates:\n",
    "        candidate_counts = dict()\n",
    "        if debug:\n",
    "            print(f'k={k}')\n",
    "        for i, transaction in enumerate(dataset):\n",
    "            if debug and i % debug_threshold == 0:\n",
    "                print(f'{i}/{total_transactions}', end='\\r')\n",
    "            for c_t in itertools.combinations(transaction, r=k):\n",
    "                if k == 1 or c_t in candidates:\n",
    "                    if c_t not in candidate_counts:\n",
    "                        candidate_counts[c_t] = 0\n",
    "                    candidate_counts[c_t] += 1\n",
    "                    \n",
    "        print(f'{total_transactions}/{total_transactions}')\n",
    "        \n",
    "        frequent_items = set()\n",
    "        for item, count in sorted(candidate_counts.items()):\n",
    "            if count / total_transactions >= minsupp:\n",
    "                frequent_items.add(item)\n",
    "        \n",
    "        if debug:\n",
    "            print(f'Frequent items fount: {len(frequent_items)}')\n",
    "\n",
    "        for items in sorted(frequent_items):\n",
    "            result.append(items)\n",
    "\n",
    "        relevant_items = sorted({item for items in frequent_items for item in items})\n",
    "        k += 1\n",
    "        candidates = [combination for combination in itertools.combinations(relevant_items, r=k)]\n",
    "    \n",
    "    return result"
   ]
  },
  {
   "cell_type": "code",
   "execution_count": 41,
   "metadata": {},
   "outputs": [
    {
     "name": "stdout",
     "output_type": "stream",
     "text": [
      "k=1\n",
      "88162/88162\n",
      "Frequent items fount: 5\n",
      "k=2\n",
      "88162/88162\n",
      "Frequent items fount: 4\n",
      "k=3\n",
      "88162/88162\n",
      "Frequent items fount: 0\n",
      "[(32,), (38,), (39,), (41,), (48,), (38, 39), (39, 41), (39, 48), (41, 48)]\n"
     ]
    }
   ],
   "source": [
    "print(apriori(dataset, minsupp))"
   ]
  }
 ],
 "metadata": {
  "kernelspec": {
   "display_name": "Python 3",
   "language": "python",
   "name": "python3"
  },
  "language_info": {
   "codemirror_mode": {
    "name": "ipython",
    "version": 3
   },
   "file_extension": ".py",
   "mimetype": "text/x-python",
   "name": "python",
   "nbconvert_exporter": "python",
   "pygments_lexer": "ipython3",
   "version": "3.8.1"
  }
 },
 "nbformat": 4,
 "nbformat_minor": 4
}
